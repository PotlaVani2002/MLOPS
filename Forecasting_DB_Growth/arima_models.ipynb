{
 "cells": [
  {
   "cell_type": "code",
   "execution_count": 5,
   "id": "ff069a5b-5418-4368-9354-3c8a020073fb",
   "metadata": {},
   "outputs": [
    {
     "name": "stderr",
     "output_type": "stream",
     "text": [
      "C:\\Users\\vpotla\\AppData\\Local\\Temp\\ipykernel_7716\\3537569424.py:16: FutureWarning: Series.fillna with 'method' is deprecated and will raise in a future version. Use obj.ffill() or obj.bfill() instead.\n",
      "  ts = monthly_data.asfreq(\"MS\").fillna(method=\"ffill\")\n",
      "C:\\Users\\vpotla\\AppData\\Local\\Temp\\ipykernel_7716\\3537569424.py:16: FutureWarning: Series.fillna with 'method' is deprecated and will raise in a future version. Use obj.ffill() or obj.bfill() instead.\n",
      "  ts = monthly_data.asfreq(\"MS\").fillna(method=\"ffill\")\n",
      "C:\\Users\\vpotla\\Desktop\\pvani\\Lib\\site-packages\\statsmodels\\tsa\\statespace\\sarimax.py:978: UserWarning: Non-invertible starting MA parameters found. Using zeros as starting parameters.\n",
      "  warn('Non-invertible starting MA parameters found.'\n",
      "C:\\Users\\vpotla\\AppData\\Local\\Temp\\ipykernel_7716\\3537569424.py:16: FutureWarning: Series.fillna with 'method' is deprecated and will raise in a future version. Use obj.ffill() or obj.bfill() instead.\n",
      "  ts = monthly_data.asfreq(\"MS\").fillna(method=\"ffill\")\n",
      "C:\\Users\\vpotla\\AppData\\Local\\Temp\\ipykernel_7716\\3537569424.py:16: FutureWarning: Series.fillna with 'method' is deprecated and will raise in a future version. Use obj.ffill() or obj.bfill() instead.\n",
      "  ts = monthly_data.asfreq(\"MS\").fillna(method=\"ffill\")\n",
      "C:\\Users\\vpotla\\AppData\\Local\\Temp\\ipykernel_7716\\3537569424.py:16: FutureWarning: Series.fillna with 'method' is deprecated and will raise in a future version. Use obj.ffill() or obj.bfill() instead.\n",
      "  ts = monthly_data.asfreq(\"MS\").fillna(method=\"ffill\")\n",
      "C:\\Users\\vpotla\\Desktop\\pvani\\Lib\\site-packages\\statsmodels\\tsa\\statespace\\sarimax.py:978: UserWarning: Non-invertible starting MA parameters found. Using zeros as starting parameters.\n",
      "  warn('Non-invertible starting MA parameters found.'\n",
      "C:\\Users\\vpotla\\AppData\\Local\\Temp\\ipykernel_7716\\3537569424.py:16: FutureWarning: Series.fillna with 'method' is deprecated and will raise in a future version. Use obj.ffill() or obj.bfill() instead.\n",
      "  ts = monthly_data.asfreq(\"MS\").fillna(method=\"ffill\")\n",
      "C:\\Users\\vpotla\\AppData\\Local\\Temp\\ipykernel_7716\\3537569424.py:16: FutureWarning: Series.fillna with 'method' is deprecated and will raise in a future version. Use obj.ffill() or obj.bfill() instead.\n",
      "  ts = monthly_data.asfreq(\"MS\").fillna(method=\"ffill\")\n",
      "C:\\Users\\vpotla\\AppData\\Local\\Temp\\ipykernel_7716\\3537569424.py:16: FutureWarning: Series.fillna with 'method' is deprecated and will raise in a future version. Use obj.ffill() or obj.bfill() instead.\n",
      "  ts = monthly_data.asfreq(\"MS\").fillna(method=\"ffill\")\n",
      "C:\\Users\\vpotla\\AppData\\Local\\Temp\\ipykernel_7716\\3537569424.py:16: FutureWarning: Series.fillna with 'method' is deprecated and will raise in a future version. Use obj.ffill() or obj.bfill() instead.\n",
      "  ts = monthly_data.asfreq(\"MS\").fillna(method=\"ffill\")\n",
      "C:\\Users\\vpotla\\AppData\\Local\\Temp\\ipykernel_7716\\3537569424.py:16: FutureWarning: Series.fillna with 'method' is deprecated and will raise in a future version. Use obj.ffill() or obj.bfill() instead.\n",
      "  ts = monthly_data.asfreq(\"MS\").fillna(method=\"ffill\")\n",
      "C:\\Users\\vpotla\\AppData\\Local\\Temp\\ipykernel_7716\\3537569424.py:16: FutureWarning: Series.fillna with 'method' is deprecated and will raise in a future version. Use obj.ffill() or obj.bfill() instead.\n",
      "  ts = monthly_data.asfreq(\"MS\").fillna(method=\"ffill\")\n",
      "C:\\Users\\vpotla\\AppData\\Local\\Temp\\ipykernel_7716\\3537569424.py:16: FutureWarning: Series.fillna with 'method' is deprecated and will raise in a future version. Use obj.ffill() or obj.bfill() instead.\n",
      "  ts = monthly_data.asfreq(\"MS\").fillna(method=\"ffill\")\n",
      "C:\\Users\\vpotla\\AppData\\Local\\Temp\\ipykernel_7716\\3537569424.py:16: FutureWarning: Series.fillna with 'method' is deprecated and will raise in a future version. Use obj.ffill() or obj.bfill() instead.\n",
      "  ts = monthly_data.asfreq(\"MS\").fillna(method=\"ffill\")\n",
      "C:\\Users\\vpotla\\AppData\\Local\\Temp\\ipykernel_7716\\3537569424.py:16: FutureWarning: Series.fillna with 'method' is deprecated and will raise in a future version. Use obj.ffill() or obj.bfill() instead.\n",
      "  ts = monthly_data.asfreq(\"MS\").fillna(method=\"ffill\")\n",
      "C:\\Users\\vpotla\\AppData\\Local\\Temp\\ipykernel_7716\\3537569424.py:16: FutureWarning: Series.fillna with 'method' is deprecated and will raise in a future version. Use obj.ffill() or obj.bfill() instead.\n",
      "  ts = monthly_data.asfreq(\"MS\").fillna(method=\"ffill\")\n"
     ]
    },
    {
     "name": "stdout",
     "output_type": "stream",
     "text": [
      "✅ Models saved successfully!\n"
     ]
    }
   ],
   "source": [
    "import pandas as pd\n",
    "import pickle\n",
    "from statsmodels.tsa.arima.model import ARIMA\n",
    "\n",
    "# Load data\n",
    "df = pd.read_csv(\"db_growth_data.csv\", parse_dates=[\"Date\"])\n",
    "df = df.sort_values([\"Server\", \"Database\", \"Date\"])\n",
    "\n",
    "models = {}\n",
    "\n",
    "for (server, db), group in df.groupby([\"Server\", \"Database\"]):\n",
    "    # Monthly aggregation (last recorded value in the month)\n",
    "    monthly_data = group.resample(\"MS\", on=\"Date\")[\"DB_Size_GB\"].last()\n",
    "    \n",
    "    # Fill missing months\n",
    "    ts = monthly_data.asfreq(\"MS\").fillna(method=\"ffill\")\n",
    "    \n",
    "    # Fit ARIMA\n",
    "    model = ARIMA(ts, order=(1, 1, 1))\n",
    "    model_fit = model.fit()\n",
    "    \n",
    "    # Save model in dictionary\n",
    "    models[(server, db)] = model_fit\n",
    "\n",
    "# Save all models into a pickle file\n",
    "with open(\"arima_models.pkl\", \"wb\") as f:\n",
    "    pickle.dump(models, f)\n",
    "\n",
    "print(\"✅ Models saved successfully!\")\n"
   ]
  },
  {
   "cell_type": "code",
   "execution_count": null,
   "id": "0a1c1083-a6c9-440e-b9ba-585b9df0e745",
   "metadata": {},
   "outputs": [],
   "source": []
  }
 ],
 "metadata": {
  "kernelspec": {
   "display_name": "Python 3 (ipykernel)",
   "language": "python",
   "name": "python3"
  },
  "language_info": {
   "codemirror_mode": {
    "name": "ipython",
    "version": 3
   },
   "file_extension": ".py",
   "mimetype": "text/x-python",
   "name": "python",
   "nbconvert_exporter": "python",
   "pygments_lexer": "ipython3",
   "version": "3.12.7"
  }
 },
 "nbformat": 4,
 "nbformat_minor": 5
}
