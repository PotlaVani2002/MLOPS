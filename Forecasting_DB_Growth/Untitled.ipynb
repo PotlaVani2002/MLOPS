{
 "cells": [
  {
   "cell_type": "code",
   "execution_count": 1,
   "id": "4f76144a-e313-4758-99ec-900e26a39fd7",
   "metadata": {},
   "outputs": [],
   "source": [
    "import pandas as pd\n",
    "import numpy as np\n",
    "import pickle\n",
    "import pyodbc\n",
    "from statsmodels.tsa.arima.model import ARIMA\n",
    "from statsmodels.tsa.stattools import adfuller\n",
    "from sklearn.metrics import mean_squared_error, mean_absolute_error"
   ]
  },
  {
   "cell_type": "code",
   "execution_count": 6,
   "id": "c6110ac7-d64a-405a-9cc6-a25a2bff258e",
   "metadata": {},
   "outputs": [
    {
     "name": "stderr",
     "output_type": "stream",
     "text": [
      "C:\\Users\\vpotla\\AppData\\Local\\Temp\\ipykernel_2300\\2657453538.py:30: UserWarning: pandas only supports SQLAlchemy connectable (engine/connection) or database string URI or sqlite3 DBAPI2 connection. Other DBAPI2 objects are not tested. Please consider using SQLAlchemy.\n",
      "  df = pd.read_sql(query, conn)\n"
     ]
    },
    {
     "name": "stdout",
     "output_type": "stream",
     "text": [
      "    Server DatabaseName       Date  SizeMB\n",
      "0  Server1          DB1 2000-01-02  105.94\n",
      "1  Server1          DB1 2000-01-03  118.67\n",
      "2  Server1          DB1 2000-01-04  139.75\n",
      "3  Server1          DB1 2000-01-05  155.52\n",
      "4  Server1          DB1 2000-01-06  162.24\n"
     ]
    }
   ],
   "source": [
    "import pyodbc\n",
    "import pandas as pd\n",
    "\n",
    "# 1. Connection details\n",
    "server = '172.17.35.52'\n",
    "database = 'AdventureWorks2022'\n",
    "username = 'mlops'\n",
    "password = 'mlops2k25'\n",
    "\n",
    "# 2. Create connection\n",
    "conn = pyodbc.connect(\n",
    "    f\"DRIVER={{ODBC Driver 17 for SQL Server}};\"\n",
    "    f\"SERVER={server};\"\n",
    "    f\"DATABASE={database};\"\n",
    "    f\"UID={username};\"\n",
    "    f\"PWD={password}\"\n",
    ")\n",
    "\n",
    "# 3. SQL query (avoid reserved words as column aliases)\n",
    "query = \"\"\"\n",
    "SELECT\n",
    "    ServerName AS [Server],\n",
    "    DatabaseName AS [DatabaseName],\n",
    "    RecordDate AS [Date],\n",
    "    SizeMB\n",
    "FROM dbo.database_info_tb\n",
    "\"\"\"\n",
    "\n",
    "# 4. Read into DataFrame\n",
    "df = pd.read_sql(query, conn)\n",
    "\n",
    "# 5. Close connection\n",
    "conn.close()\n",
    "\n",
    "# 6. Convert Date column to datetime\n",
    "df['Date'] = pd.to_datetime(df['Date'])\n",
    "\n",
    "# 7. Sort by Server, DatabaseName, Date\n",
    "df = df.sort_values([\"Server\", \"DatabaseName\", \"Date\"])\n",
    "\n",
    "print(df.head())\n"
   ]
  },
  {
   "cell_type": "code",
   "execution_count": 8,
   "id": "a3b57655-335e-469e-a3d4-a8b1f539c892",
   "metadata": {},
   "outputs": [
    {
     "name": "stdout",
     "output_type": "stream",
     "text": [
      "ADF Statistic: -6.494656\n",
      "p-value: 0.000000\n"
     ]
    }
   ],
   "source": [
    "from statsmodels.tsa.stattools import adfuller\n",
    "from numpy import log\n",
    "result = adfuller(df.SizeMB.dropna())\n",
    "print('ADF Statistic: %f' % result[0])\n",
    "print('p-value: %f' % result[1])"
   ]
  },
  {
   "cell_type": "code",
   "execution_count": 9,
   "id": "d2700279-4319-44dd-8728-1508467c97b7",
   "metadata": {},
   "outputs": [
    {
     "data": {
      "image/png": "[encoded data removed]",
      "text/plain": [
       "<Figure size 1200x500 with 2 Axes>"
      ]
     },
     "metadata": {},
     "output_type": "display_data"
    }
   ],
   "source": [
    "import pandas as pd\n",
    "import matplotlib.pyplot as plt\n",
    "from statsmodels.graphics.tsaplots import plot_acf, plot_pacf\n",
    "\n",
    "# Example: df is your DataFrame, 'SizeMB' is the time series\n",
    "series = df['SizeMB']\n",
    "\n",
    "plt.figure(figsize=(12, 5))\n",
    "\n",
    "# ACF\n",
    "plt.subplot(1, 2, 1)\n",
    "plot_acf(series, lags=20, ax=plt.gca())\n",
    "plt.title(\"ACF Plot\")\n",
    "\n",
    "# PACF\n",
    "plt.subplot(1, 2, 2)\n",
    "plot_pacf(series, lags=20, ax=plt.gca(), method='ywm')\n",
    "plt.title(\"PACF Plot\")\n",
    "\n",
    "plt.tight_layout()\n",
    "plt.show()\n"
   ]
  },
  {
   "cell_type": "code",
   "execution_count": 12,
   "id": "5aafc25a-d08c-4e77-b94c-05cf52398cf4",
   "metadata": {},
   "outputs": [],
   "source": []
  },
  {
   "cell_type": "code",
   "execution_count": 21,
   "id": "ac9cfe4d-fb91-4c51-af44-5c9a983fa194",
   "metadata": {},
   "outputs": [],
   "source": [
    "\n",
    "def check_stationarity(ts):\n",
    "    \"\"\"Run Augmented Dickey-Fuller test to check stationarity.\"\"\"\n",
    "    result = adfuller(ts.dropna())\n",
    "    adf_stat, p_value = result[0], result[1]\n",
    "    print(adf_stat)\n",
    "    print(p_value)\n",
    "    return p_value <= 0.05  # True if stationary"
   ]
  },
  {
   "cell_type": "code",
   "execution_count": 5,
   "id": "fc5913fd-42e9-46d2-98b2-7b92dea5524b",
   "metadata": {},
   "outputs": [],
   "source": [
    "def evaluate_forecast(actual, predicted):\n",
    "    \"\"\"Return RMSE, MAE, and MAPE for forecasts.\"\"\"\n",
    "    mse = mean_squared_error(actual, predicted)\n",
    "    rmse = np.sqrt(mse)\n",
    "    mae = mean_absolute_error(actual, predicted)\n",
    "    mape = np.mean(np.abs((actual - predicted) / actual)) * 100\n",
    "    return {\"RMSE\": rmse, \"MAE\": mae, \"MAPE\": mape}"
   ]
  },
  {
   "cell_type": "code",
   "execution_count": 14,
   "id": "263c364e-dd7d-4718-9d11-fbbe0d5ef533",
   "metadata": {},
   "outputs": [],
   "source": [
    "def train_and_evaluate(ts, order=(1,1,1), test_horizon=6):\n",
    "    \"\"\"Train ARIMA, forecast, and evaluate.\"\"\"\n",
    "    # Split train/test (time-aware)\n",
    "    train, test = ts.iloc[:-test_horizon], ts.iloc[-test_horizon:]\n",
    "    \n",
    "    # Fit model\n",
    "    model = ARIMA(train, order=order)\n",
    "    model_fit = model.fit()\n",
    "    \n",
    "    # Forecast\n",
    "    forecast = model_fit.forecast(steps=test_horizon)\n",
    "    \n",
    "    # Evaluate\n",
    "    metrics = evaluate_forecast(test, forecast)\n",
    "    \n",
    "    return model_fit, forecast, test, metrics"
   ]
  },
  {
   "cell_type": "code",
   "execution_count": 22,
   "id": "27f4ce8b-69e5-486e-86fd-b64aa7f73952",
   "metadata": {},
   "outputs": [
    {
     "name": "stderr",
     "output_type": "stream",
     "text": [
      "C:\\Users\\vpotla\\AppData\\Local\\Temp\\ipykernel_14772\\3201448558.py:15: FutureWarning: Series.fillna with 'method' is deprecated and will raise in a future version. Use obj.ffill() or obj.bfill() instead.\n",
      "  ts = monthly_data.asfreq(\"MS\").fillna(method=\"ffill\")\n",
      "C:\\Users\\vpotla\\AppData\\Local\\Temp\\ipykernel_14772\\3201448558.py:15: FutureWarning: Series.fillna with 'method' is deprecated and will raise in a future version. Use obj.ffill() or obj.bfill() instead.\n",
      "  ts = monthly_data.asfreq(\"MS\").fillna(method=\"ffill\")\n",
      "C:\\Users\\vpotla\\AppData\\Local\\Temp\\ipykernel_14772\\3201448558.py:15: FutureWarning: Series.fillna with 'method' is deprecated and will raise in a future version. Use obj.ffill() or obj.bfill() instead.\n",
      "  ts = monthly_data.asfreq(\"MS\").fillna(method=\"ffill\")\n"
     ]
    },
    {
     "name": "stdout",
     "output_type": "stream",
     "text": [
      "-1.3254065409741036\n",
      "0.6174701345444736\n",
      "Server_A - DB_Analytics: Non-stationary (d=1 applied)\n",
      "Server_A-DB_Analytics | RMSE: 8.42, MAE: 7.99, MAPE: 24.98%\n",
      "-1.4120947493900349\n",
      "0.5764642051815791\n",
      "Server_A - DB_Finance: Non-stationary (d=1 applied)\n",
      "Server_A-DB_Finance | RMSE: 5.54, MAE: 4.50, MAPE: 21.98%\n",
      "-0.656536312714133\n",
      "0.8576887841674363\n",
      "Server_A - DB_HR: Non-stationary (d=1 applied)\n",
      "Server_A-DB_HR | RMSE: 8.76, MAE: 7.77, MAPE: 25.37%\n",
      "-0.5994380102094528\n",
      "0.871108962981453\n",
      "Server_A - DB_Inventory: Non-stationary (d=1 applied)\n",
      "Server_A-DB_Inventory | RMSE: 6.36, MAE: 6.01, MAPE: 19.06%\n",
      "0.6060564407026338\n",
      "0.987763962563194\n",
      "Server_A - DB_Sales: Non-stationary (d=1 applied)\n",
      "Server_A-DB_Sales | RMSE: 4.27, MAE: 3.76, MAPE: 12.93%\n",
      "-0.9362855838635388\n",
      "0.7757883793993317\n",
      "Server_B - DB_Analytics: Non-stationary (d=1 applied)\n"
     ]
    },
    {
     "name": "stderr",
     "output_type": "stream",
     "text": [
      "C:\\Users\\vpotla\\AppData\\Local\\Temp\\ipykernel_14772\\3201448558.py:15: FutureWarning: Series.fillna with 'method' is deprecated and will raise in a future version. Use obj.ffill() or obj.bfill() instead.\n",
      "  ts = monthly_data.asfreq(\"MS\").fillna(method=\"ffill\")\n",
      "C:\\Users\\vpotla\\AppData\\Local\\Temp\\ipykernel_14772\\3201448558.py:15: FutureWarning: Series.fillna with 'method' is deprecated and will raise in a future version. Use obj.ffill() or obj.bfill() instead.\n",
      "  ts = monthly_data.asfreq(\"MS\").fillna(method=\"ffill\")\n",
      "C:\\Users\\vpotla\\Desktop\\pvani\\Lib\\site-packages\\statsmodels\\tsa\\statespace\\sarimax.py:978: UserWarning: Non-invertible starting MA parameters found. Using zeros as starting parameters.\n",
      "  warn('Non-invertible starting MA parameters found.'\n",
      "C:\\Users\\vpotla\\AppData\\Local\\Temp\\ipykernel_14772\\3201448558.py:15: FutureWarning: Series.fillna with 'method' is deprecated and will raise in a future version. Use obj.ffill() or obj.bfill() instead.\n",
      "  ts = monthly_data.asfreq(\"MS\").fillna(method=\"ffill\")\n"
     ]
    },
    {
     "name": "stdout",
     "output_type": "stream",
     "text": [
      "Server_B-DB_Analytics | RMSE: 6.52, MAE: 4.86, MAPE: 25.08%\n",
      "-0.8801625828465964\n",
      "0.7944349534320092\n",
      "Server_B - DB_Finance: Non-stationary (d=1 applied)\n",
      "Server_B-DB_Finance | RMSE: 5.38, MAE: 4.69, MAPE: 20.22%\n",
      "-0.4814128232555691\n",
      "0.8955929063139432\n",
      "Server_B - DB_HR: Non-stationary (d=1 applied)\n",
      "Server_B-DB_HR | RMSE: 6.38, MAE: 5.24, MAPE: 21.15%\n",
      "-1.6834728553486111\n",
      "0.439647243775737\n",
      "Server_B - DB_Inventory: Non-stationary (d=1 applied)\n"
     ]
    },
    {
     "name": "stderr",
     "output_type": "stream",
     "text": [
      "C:\\Users\\vpotla\\AppData\\Local\\Temp\\ipykernel_14772\\3201448558.py:15: FutureWarning: Series.fillna with 'method' is deprecated and will raise in a future version. Use obj.ffill() or obj.bfill() instead.\n",
      "  ts = monthly_data.asfreq(\"MS\").fillna(method=\"ffill\")\n",
      "C:\\Users\\vpotla\\Desktop\\pvani\\Lib\\site-packages\\statsmodels\\tsa\\statespace\\sarimax.py:978: UserWarning: Non-invertible starting MA parameters found. Using zeros as starting parameters.\n",
      "  warn('Non-invertible starting MA parameters found.'\n",
      "C:\\Users\\vpotla\\AppData\\Local\\Temp\\ipykernel_14772\\3201448558.py:15: FutureWarning: Series.fillna with 'method' is deprecated and will raise in a future version. Use obj.ffill() or obj.bfill() instead.\n",
      "  ts = monthly_data.asfreq(\"MS\").fillna(method=\"ffill\")\n",
      "C:\\Users\\vpotla\\AppData\\Local\\Temp\\ipykernel_14772\\3201448558.py:15: FutureWarning: Series.fillna with 'method' is deprecated and will raise in a future version. Use obj.ffill() or obj.bfill() instead.\n",
      "  ts = monthly_data.asfreq(\"MS\").fillna(method=\"ffill\")\n",
      "C:\\Users\\vpotla\\Desktop\\pvani\\Lib\\site-packages\\statsmodels\\tsa\\statespace\\sarimax.py:966: UserWarning: Non-stationary starting autoregressive parameters found. Using zeros as starting parameters.\n",
      "  warn('Non-stationary starting autoregressive parameters'\n",
      "C:\\Users\\vpotla\\Desktop\\pvani\\Lib\\site-packages\\statsmodels\\tsa\\statespace\\sarimax.py:978: UserWarning: Non-invertible starting MA parameters found. Using zeros as starting parameters.\n",
      "  warn('Non-invertible starting MA parameters found.'\n"
     ]
    },
    {
     "name": "stdout",
     "output_type": "stream",
     "text": [
      "Server_B-DB_Inventory | RMSE: 8.51, MAE: 6.62, MAPE: 23.31%\n",
      "-2.448536509338408\n",
      "0.1285031162410794\n",
      "Server_B - DB_Sales: Non-stationary (d=1 applied)\n",
      "Server_B-DB_Sales | RMSE: 4.98, MAE: 3.46, MAPE: 16.49%\n",
      "-1.476949434614228\n",
      "0.5448817534155088\n",
      "Server_C - DB_Analytics: Non-stationary (d=1 applied)\n"
     ]
    },
    {
     "name": "stderr",
     "output_type": "stream",
     "text": [
      "C:\\Users\\vpotla\\AppData\\Local\\Temp\\ipykernel_14772\\3201448558.py:15: FutureWarning: Series.fillna with 'method' is deprecated and will raise in a future version. Use obj.ffill() or obj.bfill() instead.\n",
      "  ts = monthly_data.asfreq(\"MS\").fillna(method=\"ffill\")\n",
      "C:\\Users\\vpotla\\AppData\\Local\\Temp\\ipykernel_14772\\3201448558.py:15: FutureWarning: Series.fillna with 'method' is deprecated and will raise in a future version. Use obj.ffill() or obj.bfill() instead.\n",
      "  ts = monthly_data.asfreq(\"MS\").fillna(method=\"ffill\")\n",
      "C:\\Users\\vpotla\\Desktop\\pvani\\Lib\\site-packages\\statsmodels\\tsa\\statespace\\sarimax.py:966: UserWarning: Non-stationary starting autoregressive parameters found. Using zeros as starting parameters.\n",
      "  warn('Non-stationary starting autoregressive parameters'\n",
      "C:\\Users\\vpotla\\Desktop\\pvani\\Lib\\site-packages\\statsmodels\\tsa\\statespace\\sarimax.py:978: UserWarning: Non-invertible starting MA parameters found. Using zeros as starting parameters.\n",
      "  warn('Non-invertible starting MA parameters found.'\n"
     ]
    },
    {
     "name": "stdout",
     "output_type": "stream",
     "text": [
      "Server_C-DB_Analytics | RMSE: 7.00, MAE: 5.44, MAPE: 17.43%\n",
      "-0.3902970855398389\n",
      "0.9117062550428141\n",
      "Server_C - DB_Finance: Non-stationary (d=1 applied)\n",
      "Server_C-DB_Finance | RMSE: 8.07, MAE: 6.45, MAPE: 21.58%\n",
      "-1.8354800243632734\n",
      "0.3629944820752691\n",
      "Server_C - DB_HR: Non-stationary (d=1 applied)\n",
      "Server_C-DB_HR | RMSE: 4.44, MAE: 3.40, MAPE: 13.13%\n",
      "-1.1791908000459177\n",
      "0.6824826438177788\n",
      "Server_C - DB_Inventory: Non-stationary (d=1 applied)\n"
     ]
    },
    {
     "name": "stderr",
     "output_type": "stream",
     "text": [
      "C:\\Users\\vpotla\\AppData\\Local\\Temp\\ipykernel_14772\\3201448558.py:15: FutureWarning: Series.fillna with 'method' is deprecated and will raise in a future version. Use obj.ffill() or obj.bfill() instead.\n",
      "  ts = monthly_data.asfreq(\"MS\").fillna(method=\"ffill\")\n",
      "C:\\Users\\vpotla\\Desktop\\pvani\\Lib\\site-packages\\statsmodels\\tsa\\statespace\\sarimax.py:966: UserWarning: Non-stationary starting autoregressive parameters found. Using zeros as starting parameters.\n",
      "  warn('Non-stationary starting autoregressive parameters'\n",
      "C:\\Users\\vpotla\\Desktop\\pvani\\Lib\\site-packages\\statsmodels\\tsa\\statespace\\sarimax.py:978: UserWarning: Non-invertible starting MA parameters found. Using zeros as starting parameters.\n",
      "  warn('Non-invertible starting MA parameters found.'\n",
      "C:\\Users\\vpotla\\AppData\\Local\\Temp\\ipykernel_14772\\3201448558.py:15: FutureWarning: Series.fillna with 'method' is deprecated and will raise in a future version. Use obj.ffill() or obj.bfill() instead.\n",
      "  ts = monthly_data.asfreq(\"MS\").fillna(method=\"ffill\")\n",
      "C:\\Users\\vpotla\\AppData\\Local\\Temp\\ipykernel_14772\\3201448558.py:15: FutureWarning: Series.fillna with 'method' is deprecated and will raise in a future version. Use obj.ffill() or obj.bfill() instead.\n",
      "  ts = monthly_data.asfreq(\"MS\").fillna(method=\"ffill\")\n",
      "C:\\Users\\vpotla\\Desktop\\pvani\\Lib\\site-packages\\statsmodels\\tsa\\statespace\\sarimax.py:978: UserWarning: Non-invertible starting MA parameters found. Using zeros as starting parameters.\n",
      "  warn('Non-invertible starting MA parameters found.'\n"
     ]
    },
    {
     "name": "stdout",
     "output_type": "stream",
     "text": [
      "Server_C-DB_Inventory | RMSE: 9.13, MAE: 7.51, MAPE: 27.18%\n",
      "-1.0575304972132553\n",
      "0.7317078558291391\n",
      "Server_C - DB_Sales: Non-stationary (d=1 applied)\n",
      "Server_C-DB_Sales | RMSE: 6.13, MAE: 5.31, MAPE: 21.65%\n"
     ]
    },
    {
     "name": "stderr",
     "output_type": "stream",
     "text": [
      "C:\\Users\\vpotla\\AppData\\Local\\Temp\\ipykernel_14772\\3201448558.py:15: FutureWarning: Series.fillna with 'method' is deprecated and will raise in a future version. Use obj.ffill() or obj.bfill() instead.\n",
      "  ts = monthly_data.asfreq(\"MS\").fillna(method=\"ffill\")\n",
      "C:\\Users\\vpotla\\Desktop\\pvani\\Lib\\site-packages\\statsmodels\\tsa\\statespace\\sarimax.py:978: UserWarning: Non-invertible starting MA parameters found. Using zeros as starting parameters.\n",
      "  warn('Non-invertible starting MA parameters found.'\n"
     ]
    }
   ],
   "source": [
    "# ------------------------------\n",
    "# Main Training Script\n",
    "# ------------------------------\n",
    "\n",
    "# Load Data\n",
    "df = pd.read_csv(\"db_growth_data.csv\", parse_dates=[\"Date\"])\n",
    "df = preprocess_data(df)\n",
    "\n",
    "models_bundle = {}\n",
    "\n",
    "# Train a model for each (Server, Database)\n",
    "for (server, db), group in df.groupby([\"Server\", \"Database\"]):\n",
    "    # Resample monthly (take last value each month)\n",
    "    monthly_data = group.resample(\"MS\", on=\"Date\")[\"DB_Size_GB\"].last()\n",
    "    ts = monthly_data.asfreq(\"MS\").fillna(method=\"ffill\")\n",
    "    \n",
    "    if len(ts) < 18:\n",
    "        print(f\"Skipping {server} - {db} (insufficient data)\")\n",
    "        continue\n",
    "    \n",
    "    # Check stationarity\n",
    "    if check_stationarity(ts):\n",
    "        d = 0\n",
    "        print(f\"{server} - {db}: Stationary (d=0)\")\n",
    "    else:\n",
    "        d = 1\n",
    "        print(f\"{server} - {db}: Non-stationary (d=1 applied)\")\n",
    "    \n",
    "    # Train & evaluate\n",
    "    order = (2, 2, 1)\n",
    "    fit, forecast, test, metrics = train_and_evaluate(ts, order=order, test_horizon=6)\n",
    "    \n",
    "    # Store in bundle\n",
    "    models_bundle[(server, db)] = {\n",
    "        \"model\": fit,\n",
    "        \"order\": order,\n",
    "        \"metrics\": metrics,\n",
    "        \"train_end\": str(ts.index.max().date()),\n",
    "        \"freq\": \"MS\"\n",
    "    }\n",
    "    \n",
    "    print(f\"{server}-{db} | RMSE: {metrics['RMSE']:.2f}, MAE: {metrics['MAE']:.2f}, MAPE: {metrics['MAPE']:.2f}%\")\n"
   ]
  },
  {
   "cell_type": "code",
   "execution_count": null,
   "id": "5c2f4e06-0041-41b4-8bf5-dbdb1b6a7c88",
   "metadata": {},
   "outputs": [],
   "source": [
    "\n",
    "# # Save models to pickle\n",
    "# with open(\"arima_models.pkl\", \"wb\") as f:\n",
    "#     pickle.dump(models_bundle, f)\n",
    "\n",
    "# print(\"✅ Models and metrics saved successfully!\")"
   ]
  }
 ],
 "metadata": {
  "kernelspec": {
   "display_name": "Python 3 (ipykernel)",
   "language": "python",
   "name": "python3"
  },
  "language_info": {
   "codemirror_mode": {
    "name": "ipython",
    "version": 3
   },
   "file_extension": ".py",
   "mimetype": "text/x-python",
   "name": "python",
   "nbconvert_exporter": "python",
   "pygments_lexer": "ipython3",
   "version": "3.12.7"
  }
 },
 "nbformat": 4,
 "nbformat_minor": 5
}
